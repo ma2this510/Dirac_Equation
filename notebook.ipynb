{
 "cells": [
  {
   "cell_type": "code",
   "execution_count": 80,
   "metadata": {},
   "outputs": [],
   "source": [
    "import pandas as pd\n",
    "import numpy as np\n",
    "import matplotlib.pyplot as plt\n",
    "from mpl_toolkits.axes_grid1.inset_locator import mark_inset, zoomed_inset_axes\n",
    "from matplotlib.ticker import ScalarFormatter"
   ]
  },
  {
   "cell_type": "code",
   "execution_count": 9,
   "metadata": {},
   "outputs": [
    {
     "data": {
      "text/html": [
       "<div>\n",
       "<style scoped>\n",
       "    .dataframe tbody tr th:only-of-type {\n",
       "        vertical-align: middle;\n",
       "    }\n",
       "\n",
       "    .dataframe tbody tr th {\n",
       "        vertical-align: top;\n",
       "    }\n",
       "\n",
       "    .dataframe thead th {\n",
       "        text-align: right;\n",
       "    }\n",
       "</style>\n",
       "<table border=\"1\" class=\"dataframe\">\n",
       "  <thead>\n",
       "    <tr style=\"text-align: right;\">\n",
       "      <th></th>\n",
       "      <th>0</th>\n",
       "    </tr>\n",
       "  </thead>\n",
       "  <tbody>\n",
       "    <tr>\n",
       "      <th>0</th>\n",
       "      <td>-1.028279e+06</td>\n",
       "    </tr>\n",
       "    <tr>\n",
       "      <th>1</th>\n",
       "      <td>-6.934245e+05</td>\n",
       "    </tr>\n",
       "    <tr>\n",
       "      <th>2</th>\n",
       "      <td>-6.190086e+05</td>\n",
       "    </tr>\n",
       "    <tr>\n",
       "      <th>3</th>\n",
       "      <td>-5.134336e+05</td>\n",
       "    </tr>\n",
       "    <tr>\n",
       "      <th>4</th>\n",
       "      <td>-4.822940e+05</td>\n",
       "    </tr>\n",
       "    <tr>\n",
       "      <th>...</th>\n",
       "      <td>...</td>\n",
       "    </tr>\n",
       "    <tr>\n",
       "      <th>191</th>\n",
       "      <td>4.680203e+05</td>\n",
       "    </tr>\n",
       "    <tr>\n",
       "      <th>192</th>\n",
       "      <td>4.860448e+05</td>\n",
       "    </tr>\n",
       "    <tr>\n",
       "      <th>193</th>\n",
       "      <td>6.351369e+05</td>\n",
       "    </tr>\n",
       "    <tr>\n",
       "      <th>194</th>\n",
       "      <td>6.800503e+05</td>\n",
       "    </tr>\n",
       "    <tr>\n",
       "      <th>195</th>\n",
       "      <td>3.940721e+06</td>\n",
       "    </tr>\n",
       "  </tbody>\n",
       "</table>\n",
       "<p>196 rows × 1 columns</p>\n",
       "</div>"
      ],
      "text/plain": [
       "                0\n",
       "0   -1.028279e+06\n",
       "1   -6.934245e+05\n",
       "2   -6.190086e+05\n",
       "3   -5.134336e+05\n",
       "4   -4.822940e+05\n",
       "..            ...\n",
       "191  4.680203e+05\n",
       "192  4.860448e+05\n",
       "193  6.351369e+05\n",
       "194  6.800503e+05\n",
       "195  3.940721e+06\n",
       "\n",
       "[196 rows x 1 columns]"
      ]
     },
     "execution_count": 9,
     "metadata": {},
     "output_type": "execute_result"
    }
   ],
   "source": [
    "eigenvalues = pd.read_csv('eigenvalues.dat', header=None)\n",
    "c = 137\n",
    "eigenvalues"
   ]
  },
  {
   "cell_type": "code",
   "execution_count": 84,
   "metadata": {},
   "outputs": [
    {
     "name": "stdout",
     "output_type": "stream",
     "text": [
      "0.2 0.200015625 -0.00015 0.0001\n"
     ]
    },
    {
     "data": {
      "image/png": "[encoded data removed]",
      "text/plain": [
       "<Figure size 500x500 with 2 Axes>"
      ]
     },
     "metadata": {},
     "output_type": "display_data"
    }
   ],
   "source": [
    "fig, ax = plt.subplots(figsize=(5, 5))\n",
    "for i in range(len(eigenvalues)):\n",
    "    ax.plot([0.2, 1], [eigenvalues.iloc[i, 0]/(c**2), eigenvalues.iloc[i, 0]/(c**2)], color='black', linewidth=0.3)\n",
    "\n",
    "ax.set_xlim(0.1, 1.5)\n",
    "ax.set_ylim(-4, 2)\n",
    "ax.set_ylabel(r'$E / c^2$')\n",
    "ax.get_xaxis().set_visible(False)\n",
    "\n",
    "ax2 = zoomed_inset_axes(ax, 2.3E4, loc=1)\n",
    "for i in range(len(eigenvalues)):\n",
    "    ax2.plot([0.2, 1], [eigenvalues.iloc[i, 0]/(c**2), eigenvalues.iloc[i, 0]/(c**2)], color='black', linewidth=0.3)\n",
    "\n",
    "y1, y2 = -0.00015, 0.0001\n",
    "x1, x2 = 0.2, (x1 + (y2-y1)/16)\n",
    "print(x1, x2, y1, y2)\n",
    "ax2.set_xlim(x1, x2)\n",
    "ax2.set_ylim(y1, y2)\n",
    "ax2.get_xaxis().set_visible(False)\n",
    "\n",
    "y_formatter = ScalarFormatter(useOffset=False, useMathText=True)\n",
    "ax2.get_yaxis().set_major_formatter(y_formatter)\n",
    "\n",
    "mark_inset(ax, ax2, loc1=2, loc2=3, fc=\"none\", ec=\"0.5\")\n",
    "\n",
    "plt.show()"
   ]
  },
  {
   "cell_type": "code",
   "execution_count": null,
   "metadata": {},
   "outputs": [],
   "source": []
  }
 ],
 "metadata": {
  "kernelspec": {
   "display_name": "essential",
   "language": "python",
   "name": "python3"
  },
  "language_info": {
   "codemirror_mode": {
    "name": "ipython",
    "version": 3
   },
   "file_extension": ".py",
   "mimetype": "text/x-python",
   "name": "python",
   "nbconvert_exporter": "python",
   "pygments_lexer": "ipython3",
   "version": "3.12.3"
  }
 },
 "nbformat": 4,
 "nbformat_minor": 2
}
